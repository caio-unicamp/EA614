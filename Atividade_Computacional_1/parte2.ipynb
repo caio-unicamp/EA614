{
 "cells": [
  {
   "cell_type": "markdown",
   "id": "7e6cd48f",
   "metadata": {},
   "source": [
    "# Baixando dependências "
   ]
  },
  {
   "cell_type": "code",
   "execution_count": 1,
   "id": "38e66a92",
   "metadata": {},
   "outputs": [
    {
     "name": "stdout",
     "output_type": "stream",
     "text": [
      "Defaulting to user installation because normal site-packages is not writeable\n",
      "Requirement already satisfied: numpy in /home/caio/.local/lib/python3.10/site-packages (1.26.4)\n",
      "Note: you may need to restart the kernel to use updated packages.\n",
      "Defaulting to user installation because normal site-packages is not writeable\n",
      "Requirement already satisfied: matplotlib in /home/caio/.local/lib/python3.10/site-packages (3.10.3)\n",
      "Requirement already satisfied: contourpy>=1.0.1 in /home/caio/.local/lib/python3.10/site-packages (from matplotlib) (1.2.1)\n",
      "Requirement already satisfied: cycler>=0.10 in /home/caio/.local/lib/python3.10/site-packages (from matplotlib) (0.12.1)\n",
      "Requirement already satisfied: fonttools>=4.22.0 in /home/caio/.local/lib/python3.10/site-packages (from matplotlib) (4.53.0)\n",
      "Requirement already satisfied: kiwisolver>=1.3.1 in /home/caio/.local/lib/python3.10/site-packages (from matplotlib) (1.4.5)\n",
      "Requirement already satisfied: numpy>=1.23 in /home/caio/.local/lib/python3.10/site-packages (from matplotlib) (1.26.4)\n",
      "Requirement already satisfied: packaging>=20.0 in /home/caio/.local/lib/python3.10/site-packages (from matplotlib) (23.2)\n",
      "Requirement already satisfied: pillow>=8 in /home/caio/.local/lib/python3.10/site-packages (from matplotlib) (10.3.0)\n",
      "Requirement already satisfied: pyparsing>=2.3.1 in /usr/lib/python3/dist-packages (from matplotlib) (2.4.7)\n",
      "Requirement already satisfied: python-dateutil>=2.7 in /home/caio/.local/lib/python3.10/site-packages (from matplotlib) (2.9.0.post0)\n",
      "Requirement already satisfied: six>=1.5 in /usr/lib/python3/dist-packages (from python-dateutil>=2.7->matplotlib) (1.16.0)\n",
      "Note: you may need to restart the kernel to use updated packages.\n",
      "Defaulting to user installation because normal site-packages is not writeable\n",
      "Requirement already satisfied: scipy in /home/caio/.local/lib/python3.10/site-packages (1.13.1)\n",
      "Requirement already satisfied: numpy<2.3,>=1.22.4 in /home/caio/.local/lib/python3.10/site-packages (from scipy) (1.26.4)\n",
      "Note: you may need to restart the kernel to use updated packages.\n",
      "Defaulting to user installation because normal site-packages is not writeable\n",
      "Requirement already satisfied: soundfile in /home/caio/.local/lib/python3.10/site-packages (0.13.1)\n",
      "Requirement already satisfied: cffi>=1.0 in /home/caio/.local/lib/python3.10/site-packages (from soundfile) (1.17.1)\n",
      "Requirement already satisfied: numpy in /home/caio/.local/lib/python3.10/site-packages (from soundfile) (1.26.4)\n",
      "Requirement already satisfied: pycparser in /home/caio/.local/lib/python3.10/site-packages (from cffi>=1.0->soundfile) (2.22)\n",
      "Note: you may need to restart the kernel to use updated packages.\n",
      "Defaulting to user installation because normal site-packages is not writeable\n",
      "Requirement already satisfied: Ipython in /home/caio/.local/lib/python3.10/site-packages (8.26.0)\n",
      "Requirement already satisfied: decorator in /usr/lib/python3/dist-packages (from Ipython) (4.4.2)\n",
      "Requirement already satisfied: jedi>=0.16 in /home/caio/.local/lib/python3.10/site-packages (from Ipython) (0.19.1)\n",
      "Requirement already satisfied: matplotlib-inline in /home/caio/.local/lib/python3.10/site-packages (from Ipython) (0.1.7)\n",
      "Requirement already satisfied: prompt-toolkit<3.1.0,>=3.0.41 in /home/caio/.local/lib/python3.10/site-packages (from Ipython) (3.0.47)\n",
      "Requirement already satisfied: pygments>=2.4.0 in /home/caio/.local/lib/python3.10/site-packages (from Ipython) (2.18.0)\n",
      "Requirement already satisfied: stack-data in /home/caio/.local/lib/python3.10/site-packages (from Ipython) (0.6.3)\n",
      "Requirement already satisfied: traitlets>=5.13.0 in /home/caio/.local/lib/python3.10/site-packages (from Ipython) (5.14.3)\n",
      "Requirement already satisfied: exceptiongroup in /home/caio/.local/lib/python3.10/site-packages (from Ipython) (1.2.2)\n",
      "Requirement already satisfied: typing-extensions>=4.6 in /home/caio/.local/lib/python3.10/site-packages (from Ipython) (4.12.2)\n",
      "Requirement already satisfied: pexpect>4.3 in /home/caio/.local/lib/python3.10/site-packages (from Ipython) (4.9.0)\n",
      "Requirement already satisfied: wcwidth in /home/caio/.local/lib/python3.10/site-packages (from prompt-toolkit<3.1.0,>=3.0.41->Ipython) (0.2.13)\n",
      "Requirement already satisfied: parso<0.9.0,>=0.8.3 in /home/caio/.local/lib/python3.10/site-packages (from jedi>=0.16->Ipython) (0.8.4)\n",
      "Requirement already satisfied: ptyprocess>=0.5 in /home/caio/.local/lib/python3.10/site-packages (from pexpect>4.3->Ipython) (0.7.0)\n",
      "Requirement already satisfied: executing>=1.2.0 in /home/caio/.local/lib/python3.10/site-packages (from stack-data->Ipython) (2.0.1)\n",
      "Requirement already satisfied: asttokens>=2.1.0 in /home/caio/.local/lib/python3.10/site-packages (from stack-data->Ipython) (2.4.1)\n",
      "Requirement already satisfied: pure-eval in /home/caio/.local/lib/python3.10/site-packages (from stack-data->Ipython) (0.2.3)\n",
      "Requirement already satisfied: six>=1.12.0 in /usr/lib/python3/dist-packages (from asttokens>=2.1.0->stack-data->Ipython) (1.16.0)\n",
      "Note: you may need to restart the kernel to use updated packages.\n"
     ]
    }
   ],
   "source": [
    "%pip install numpy\n",
    "%pip install matplotlib\n",
    "%pip install scipy\n",
    "%pip install soundfile\n",
    "%pip install Ipython"
   ]
  },
  {
   "cell_type": "markdown",
   "id": "8749dbb0",
   "metadata": {},
   "source": [
    "# Importando bibliotecas"
   ]
  },
  {
   "cell_type": "code",
   "execution_count": 2,
   "id": "95128291",
   "metadata": {},
   "outputs": [],
   "source": [
    "import numpy as np\n",
    "import matplotlib.pyplot as plt\n",
    "import scipy as sp\n",
    "import soundfile as sf\n",
    "import IPython.display as ipd"
   ]
  },
  {
   "cell_type": "markdown",
   "id": "2c9a367f",
   "metadata": {},
   "source": [
    "# Carregando as duas respostas aos impulsos"
   ]
  },
  {
   "cell_type": "code",
   "execution_count": 3,
   "id": "3d74ef74",
   "metadata": {},
   "outputs": [],
   "source": [
    "resp_imp_2 = np.genfromtxt('Arquivos/Medições/SEC_2.csv', delimiter=',') #Escolhido o ponto 2\n",
    "resp_imp_4 = np.genfromtxt('Arquivos/Medições/SEC_4.csv', delimiter=',') #Escolhido o ponto 4\n",
    "fs=44100"
   ]
  },
  {
   "cell_type": "markdown",
   "id": "a4ec7ec8",
   "metadata": {},
   "source": [
    "# Carregando os dois áudios"
   ]
  },
  {
   "cell_type": "code",
   "execution_count": 4,
   "id": "50111d6c",
   "metadata": {},
   "outputs": [],
   "source": [
    "seasons_violin1, fs = sf.read('Arquivos/Áudios/4Seasons_Violin1.wav')\n",
    "canon_cello, fs = sf.read('Arquivos/Áudios/Canon_Cello.wav')\n"
   ]
  },
  {
   "cell_type": "markdown",
   "id": "1da3590b",
   "metadata": {},
   "source": [
    "# Aplicando a convolução individual"
   ]
  },
  {
   "cell_type": "code",
   "execution_count": 5,
   "id": "415c5f99",
   "metadata": {},
   "outputs": [],
   "source": [
    "saida_4sv1_esq = sp.signal.fftconvolve(seasons_violin1, resp_imp_2[:, 1])\n",
    "saida_4sv1_dir = sp.signal.fftconvolve(seasons_violin1, resp_imp_2[:, 0])\n",
    "\n",
    "saida_cc_esq = sp.signal.fftconvolve(canon_cello, resp_imp_4[:, 1])\n",
    "saida_cc_dir = sp.signal.fftconvolve(canon_cello, resp_imp_4[:, 0])"
   ]
  },
  {
   "cell_type": "markdown",
   "id": "6f41b9f6",
   "metadata": {},
   "source": [
    "# Aplicando a superposição para cada lado"
   ]
  },
  {
   "cell_type": "code",
   "execution_count": 6,
   "id": "87f9f2af",
   "metadata": {},
   "outputs": [],
   "source": [
    "saida_pt2_esq = saida_4sv1_esq[:min(len(saida_4sv1_esq), len(saida_cc_esq))] + saida_cc_esq[:min(len(saida_4sv1_esq), len(saida_cc_esq))]\n",
    "saida_pt2_dir = saida_4sv1_dir[:min(len(saida_4sv1_dir), len(saida_cc_dir))] + saida_cc_dir[:min(len(saida_4sv1_dir), len(saida_cc_dir))]"
   ]
  },
  {
   "cell_type": "markdown",
   "id": "1345eb46",
   "metadata": {},
   "source": [
    "# Unindo ambos"
   ]
  },
  {
   "cell_type": "code",
   "execution_count": 7,
   "id": "4cea9ef9",
   "metadata": {},
   "outputs": [],
   "source": [
    "saida_pt2 = np.vstack((saida_pt2_esq, saida_pt2_dir)).transpose()"
   ]
  },
  {
   "cell_type": "markdown",
   "id": "b25f818c",
   "metadata": {},
   "source": [
    "# Mostrando a saída"
   ]
  },
  {
   "cell_type": "code",
   "execution_count": 1,
   "id": "77c36a58",
   "metadata": {},
   "outputs": [
    {
     "ename": "NameError",
     "evalue": "name 'plt' is not defined",
     "output_type": "error",
     "traceback": [
      "\u001b[0;31m---------------------------------------------------------------------------\u001b[0m",
      "\u001b[0;31mNameError\u001b[0m                                 Traceback (most recent call last)",
      "Cell \u001b[0;32mIn[1], line 1\u001b[0m\n\u001b[0;32m----> 1\u001b[0m \u001b[43mplt\u001b[49m\u001b[38;5;241m.\u001b[39mplot(saida_pt2_esq, label\u001b[38;5;241m=\u001b[39m\u001b[38;5;124m\"\u001b[39m\u001b[38;5;124mCanal Esquerdo\u001b[39m\u001b[38;5;124m\"\u001b[39m)\n\u001b[1;32m      2\u001b[0m plt\u001b[38;5;241m.\u001b[39mplot(saida_pt2_dir, label\u001b[38;5;241m=\u001b[39m\u001b[38;5;124m\"\u001b[39m\u001b[38;5;124mCanal Direito\u001b[39m\u001b[38;5;124m\"\u001b[39m)\n\u001b[1;32m      3\u001b[0m plt\u001b[38;5;241m.\u001b[39mlegend()\n",
      "\u001b[0;31mNameError\u001b[0m: name 'plt' is not defined"
     ]
    }
   ],
   "source": [
    "plt.plot(saida_pt2_esq, label=\"Canal Esquerdo\")\n",
    "plt.plot(saida_pt2_dir, label=\"Canal Direito\")\n",
    "plt.legend()\n",
    "plt.title(\"Fontes relativas a pontos opostos\")\n",
    "plt.show()"
   ]
  },
  {
   "cell_type": "markdown",
   "id": "5e5c8f38",
   "metadata": {},
   "source": [
    "# Salvando o resultado"
   ]
  },
  {
   "cell_type": "code",
   "execution_count": null,
   "id": "28f4a8c5",
   "metadata": {},
   "outputs": [],
   "source": [
    "sf.write(\"Arquivos/Saídas/saida_pt2.wav\", saida_pt2 , fs)\n",
    "ipd.Audio(filename='Arquivos/Saídas/saida_pt2.wav')"
   ]
  }
 ],
 "metadata": {
  "kernelspec": {
   "display_name": "Python 3",
   "language": "python",
   "name": "python3"
  },
  "language_info": {
   "codemirror_mode": {
    "name": "ipython",
    "version": 3
   },
   "file_extension": ".py",
   "mimetype": "text/x-python",
   "name": "python",
   "nbconvert_exporter": "python",
   "pygments_lexer": "ipython3",
   "version": "3.10.12"
  }
 },
 "nbformat": 4,
 "nbformat_minor": 5
}
